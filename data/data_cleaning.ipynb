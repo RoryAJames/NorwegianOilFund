{
 "cells": [
  {
   "cell_type": "code",
   "execution_count": 1,
   "metadata": {},
   "outputs": [],
   "source": [
    "import pandas as pd\n",
    "import numpy as np"
   ]
  },
  {
   "cell_type": "code",
   "execution_count": 2,
   "metadata": {},
   "outputs": [
    {
     "data": {
      "text/html": [
       "<div>\n",
       "<style scoped>\n",
       "    .dataframe tbody tr th:only-of-type {\n",
       "        vertical-align: middle;\n",
       "    }\n",
       "\n",
       "    .dataframe tbody tr th {\n",
       "        vertical-align: top;\n",
       "    }\n",
       "\n",
       "    .dataframe thead th {\n",
       "        text-align: right;\n",
       "    }\n",
       "</style>\n",
       "<table border=\"1\" class=\"dataframe\">\n",
       "  <thead>\n",
       "    <tr style=\"text-align: right;\">\n",
       "      <th></th>\n",
       "      <th>Region</th>\n",
       "      <th>Country</th>\n",
       "      <th>Name</th>\n",
       "      <th>Industry</th>\n",
       "      <th>Value</th>\n",
       "      <th>Category</th>\n",
       "      <th>Year</th>\n",
       "    </tr>\n",
       "  </thead>\n",
       "  <tbody>\n",
       "    <tr>\n",
       "      <th>0</th>\n",
       "      <td>Oceania</td>\n",
       "      <td>Australia</td>\n",
       "      <td>Amcor Ltd</td>\n",
       "      <td>Industrials</td>\n",
       "      <td>1779853</td>\n",
       "      <td>Equity</td>\n",
       "      <td>1998</td>\n",
       "    </tr>\n",
       "    <tr>\n",
       "      <th>1</th>\n",
       "      <td>Oceania</td>\n",
       "      <td>Australia</td>\n",
       "      <td>AMP Ltd</td>\n",
       "      <td>Financials</td>\n",
       "      <td>8662515</td>\n",
       "      <td>Equity</td>\n",
       "      <td>1998</td>\n",
       "    </tr>\n",
       "    <tr>\n",
       "      <th>2</th>\n",
       "      <td>Oceania</td>\n",
       "      <td>Australia</td>\n",
       "      <td>Ashton Mining</td>\n",
       "      <td>Basic Materials</td>\n",
       "      <td>75850</td>\n",
       "      <td>Equity</td>\n",
       "      <td>1998</td>\n",
       "    </tr>\n",
       "    <tr>\n",
       "      <th>3</th>\n",
       "      <td>Oceania</td>\n",
       "      <td>Australia</td>\n",
       "      <td>Australian Foundation Investment Co Ltd</td>\n",
       "      <td>Financials</td>\n",
       "      <td>793252</td>\n",
       "      <td>Equity</td>\n",
       "      <td>1998</td>\n",
       "    </tr>\n",
       "    <tr>\n",
       "      <th>4</th>\n",
       "      <td>Oceania</td>\n",
       "      <td>Australia</td>\n",
       "      <td>Australian Gas Light Company</td>\n",
       "      <td>Utilities</td>\n",
       "      <td>1509918</td>\n",
       "      <td>Equity</td>\n",
       "      <td>1998</td>\n",
       "    </tr>\n",
       "  </tbody>\n",
       "</table>\n",
       "</div>"
      ],
      "text/plain": [
       "    Region    Country                                     Name  \\\n",
       "0  Oceania  Australia                                Amcor Ltd   \n",
       "1  Oceania  Australia                                  AMP Ltd   \n",
       "2  Oceania  Australia                            Ashton Mining   \n",
       "3  Oceania  Australia  Australian Foundation Investment Co Ltd   \n",
       "4  Oceania  Australia             Australian Gas Light Company   \n",
       "\n",
       "          Industry   Value  Category  Year  \n",
       "0      Industrials  1779853   Equity  1998  \n",
       "1       Financials  8662515   Equity  1998  \n",
       "2  Basic Materials    75850   Equity  1998  \n",
       "3       Financials   793252   Equity  1998  \n",
       "4        Utilities  1509918   Equity  1998  "
      ]
     },
     "execution_count": 2,
     "metadata": {},
     "output_type": "execute_result"
    }
   ],
   "source": [
    "df = pd.read_csv('data.csv')\n",
    "\n",
    "df.head()"
   ]
  },
  {
   "cell_type": "code",
   "execution_count": 3,
   "metadata": {},
   "outputs": [
    {
     "data": {
      "text/plain": [
       "Asia             67177\n",
       "North America    57951\n",
       "Europe           45804\n",
       "Oceania           6614\n",
       "Latin America     5086\n",
       "Africa            2834\n",
       "Middle East       2034\n",
       "Japan             1323\n",
       "International      295\n",
       "Australia          223\n",
       "Name: Region, dtype: int64"
      ]
     },
     "execution_count": 3,
     "metadata": {},
     "output_type": "execute_result"
    }
   ],
   "source": [
    "df['Region'].value_counts()"
   ]
  },
  {
   "cell_type": "code",
   "execution_count": 4,
   "metadata": {},
   "outputs": [
    {
     "data": {
      "text/plain": [
       "United States                     51793\n",
       "Japan                             28179\n",
       "United Kingdom                    11302\n",
       "China                              9902\n",
       "Taiwan                             7440\n",
       "                                  ...  \n",
       "Gibraltar                             1\n",
       "Tanzania *, United Republic of        1\n",
       "Virgin Islands                        1\n",
       "Greenland                             1\n",
       "Marshall Islands                      1\n",
       "Name: Country, Length: 120, dtype: int64"
      ]
     },
     "execution_count": 4,
     "metadata": {},
     "output_type": "execute_result"
    }
   ],
   "source": [
    "df['Country'].value_counts()"
   ]
  },
  {
   "cell_type": "code",
   "execution_count": 5,
   "metadata": {},
   "outputs": [
    {
     "data": {
      "text/plain": [
       "Industrials                                               33276\n",
       "Financials                                                30092\n",
       "Consumer Services                                         18929\n",
       "Consumer Goods                                            17794\n",
       "Technology                                                14799\n",
       "Basic Materials                                           13616\n",
       "Health Care                                               11627\n",
       "Corporate                                                 10035\n",
       "Corporate Bonds                                            8178\n",
       "Oil & Gas                                                  6083\n",
       "Utilities                                                  5482\n",
       "Telecommunications                                         3287\n",
       "Consumer Discretionary                                     3261\n",
       "Securitized                                                2934\n",
       "Government Related Bonds                                   2205\n",
       "Government Related                                         1731\n",
       "Real Estate                                                1375\n",
       "Securitized Bonds                                          1332\n",
       "Consumer Staples                                           1181\n",
       "Government                                                  954\n",
       "Energy                                                      421\n",
       "Corporate Bonds/Securitized Bonds                           328\n",
       "Corporate/Securitized                                       313\n",
       "Treasuries                                                   51\n",
       "Treasuries/Index Linked Bonds                                22\n",
       "Treasuries/Government Related Bonds                          12\n",
       "Government Related Bonds/Securitized Bonds                    9\n",
       "Convertible Bonds                                             6\n",
       "Treasuries/Index Linked Bonds/Government Related Bonds        4\n",
       "Unknown                                                       2\n",
       "Guernsey                                                      1\n",
       "Government Related Bonds/Corporate Bonds                      1\n",
       "Name: Industry, dtype: int64"
      ]
     },
     "execution_count": 5,
     "metadata": {},
     "output_type": "execute_result"
    }
   ],
   "source": [
    "df['Industry'].value_counts()"
   ]
  },
  {
   "cell_type": "code",
   "execution_count": 6,
   "metadata": {},
   "outputs": [],
   "source": [
    "df['Industry'] = np.where((df['Industry'] == 'Unknown') & (df['Name'] == 'Craft Oil Ltd'), 'Energy',\n",
    "                 np.where((df['Industry'] == 'Unknown') & (df['Name'] == 'Kontron S&T AG'), 'Technology',         \n",
    "                          df['Industry']))"
   ]
  },
  {
   "cell_type": "code",
   "execution_count": 7,
   "metadata": {},
   "outputs": [
    {
     "data": {
      "text/plain": [
       "Industrials                                               33276\n",
       "Financials                                                30092\n",
       "Consumer Services                                         18929\n",
       "Consumer Goods                                            17794\n",
       "Technology                                                14800\n",
       "Basic Materials                                           13616\n",
       "Health Care                                               11627\n",
       "Corporate                                                 10035\n",
       "Corporate Bonds                                            8178\n",
       "Oil & Gas                                                  6083\n",
       "Utilities                                                  5482\n",
       "Telecommunications                                         3287\n",
       "Consumer Discretionary                                     3261\n",
       "Securitized                                                2934\n",
       "Government Related Bonds                                   2205\n",
       "Government Related                                         1731\n",
       "Real Estate                                                1375\n",
       "Securitized Bonds                                          1332\n",
       "Consumer Staples                                           1181\n",
       "Government                                                  954\n",
       "Energy                                                      422\n",
       "Corporate Bonds/Securitized Bonds                           328\n",
       "Corporate/Securitized                                       313\n",
       "Treasuries                                                   51\n",
       "Treasuries/Index Linked Bonds                                22\n",
       "Treasuries/Government Related Bonds                          12\n",
       "Government Related Bonds/Securitized Bonds                    9\n",
       "Convertible Bonds                                             6\n",
       "Treasuries/Index Linked Bonds/Government Related Bonds        4\n",
       "Guernsey                                                      1\n",
       "Government Related Bonds/Corporate Bonds                      1\n",
       "Name: Industry, dtype: int64"
      ]
     },
     "execution_count": 7,
     "metadata": {},
     "output_type": "execute_result"
    }
   ],
   "source": [
    "df['Industry'].value_counts()"
   ]
  }
 ],
 "metadata": {
  "kernelspec": {
   "display_name": "portfolio_analysis",
   "language": "python",
   "name": "python3"
  },
  "language_info": {
   "codemirror_mode": {
    "name": "ipython",
    "version": 3
   },
   "file_extension": ".py",
   "mimetype": "text/x-python",
   "name": "python",
   "nbconvert_exporter": "python",
   "pygments_lexer": "ipython3",
   "version": "3.10.5"
  },
  "orig_nbformat": 4,
  "vscode": {
   "interpreter": {
    "hash": "2a985480707b90bde6197324fcd0bbad9509dc0104d25d5d8b9ef18972ba5f48"
   }
  }
 },
 "nbformat": 4,
 "nbformat_minor": 2
}
